{
 "cells": [
  {
   "cell_type": "markdown",
   "id": "fc7343d5",
   "metadata": {},
   "source": [
    "\n",
    "# Regressão Linear Múltipla"
   ]
  },
  {
   "cell_type": "markdown",
   "id": "4885e1f5",
   "metadata": {},
   "source": [
    "# Importação das Bibliotecas"
   ]
  },
  {
   "cell_type": "code",
   "execution_count": 1,
   "id": "ffc21bf1",
   "metadata": {},
   "outputs": [],
   "source": [
    "# Pacotes de manipulação de dados\n",
    "import numpy as np\n",
    "import pandas as pd\n",
    "\n",
    "# Pacotes gráficos\n",
    "import matplotlib.pyplot as plt\n",
    "import seaborn as sns\n",
    "\n",
    "# Pacotes de modelagem\n",
    "import statsmodels.api as sm"
   ]
  },
  {
   "cell_type": "markdown",
   "id": "1be0948a",
   "metadata": {},
   "source": [
    "## Importação e tratamento da base de dados"
   ]
  },
  {
   "cell_type": "code",
   "execution_count": 2,
   "id": "27288d7b",
   "metadata": {},
   "outputs": [
    {
     "name": "stdout",
     "output_type": "stream",
     "text": [
      "Número de linhas e colunas:\n",
      "(46, 6)\n",
      "\n",
      "-------------------------------------\n",
      "\n",
      "Visualização inicial dos dados:\n",
      "   Núm. Funcionário  Salario  Anos de Educação Superior  Tempo na Empresa  \\\n",
      "0                29   4139.5                          0                 0   \n",
      "1                19   4331.1                          0                 6   \n",
      "2                38   4629.1                          2                 1   \n",
      "3                26   4645.9                          0                 5   \n",
      "4                17   4651.2                          2                 0   \n",
      "\n",
      "   Tempo de Experiencia em outras empresas Inglês  \n",
      "0                                       11    Não  \n",
      "1                                        1    Não  \n",
      "2                                        6    Não  \n",
      "3                                        4    Não  \n",
      "4                                        6    Não  \n"
     ]
    }
   ],
   "source": [
    "# Carregar os dados do arquivo Excel\n",
    "df = pd.read_excel('base_salarios.xlsx')\n",
    "\n",
    "# Exibir o número de linhas e colunas\n",
    "print('Número de linhas e colunas:')\n",
    "print(df.shape)\n",
    "\n",
    "print('\\n-------------------------------------')\n",
    "\n",
    "# Exibir as primeiras linhas dos dados\n",
    "print('\\nVisualização inicial dos dados:')\n",
    "print(df.head())"
   ]
  },
  {
   "cell_type": "code",
   "execution_count": 3,
   "id": "bf1ff630",
   "metadata": {},
   "outputs": [],
   "source": [
    "# Drop das colunas desnecessárias\n",
    "columns_to_drop = ['Núm. Funcionário']\n",
    "columns_to_drop = [col for col in columns_to_drop if col in df.columns]\n",
    "df.drop(columns=columns_to_drop, inplace=True)\n",
    "\n",
    "\n",
    "# Renomear as colunas conforme especificado\n",
    "df.rename(columns={\n",
    "    'Salario': 'Salario',\n",
    "    'Anos de Educação Superior': 'Anos_Educ_Superior',\n",
    "    'Tempo na Empresa': 'Tempo_Empresa',\n",
    "    'Tempo de Experiencia em outras empresas': 'Tempo_Outras_Empresas',\n",
    "    'Inglês': 'Ingles'\n",
    "}, inplace=True)"
   ]
  },
  {
   "cell_type": "code",
   "execution_count": 4,
   "id": "29dda3b7",
   "metadata": {},
   "outputs": [
    {
     "data": {
      "text/html": [
       "<div>\n",
       "<style scoped>\n",
       "    .dataframe tbody tr th:only-of-type {\n",
       "        vertical-align: middle;\n",
       "    }\n",
       "\n",
       "    .dataframe tbody tr th {\n",
       "        vertical-align: top;\n",
       "    }\n",
       "\n",
       "    .dataframe thead th {\n",
       "        text-align: right;\n",
       "    }\n",
       "</style>\n",
       "<table border=\"1\" class=\"dataframe\">\n",
       "  <thead>\n",
       "    <tr style=\"text-align: right;\">\n",
       "      <th></th>\n",
       "      <th>Salario</th>\n",
       "      <th>Anos_Educ_Superior</th>\n",
       "      <th>Tempo_Empresa</th>\n",
       "      <th>Tempo_Outras_Empresas</th>\n",
       "      <th>Ingles</th>\n",
       "    </tr>\n",
       "  </thead>\n",
       "  <tbody>\n",
       "    <tr>\n",
       "      <th>39</th>\n",
       "      <td>9316.0</td>\n",
       "      <td>6</td>\n",
       "      <td>25</td>\n",
       "      <td>3</td>\n",
       "      <td>Sim</td>\n",
       "    </tr>\n",
       "    <tr>\n",
       "      <th>25</th>\n",
       "      <td>6570.9</td>\n",
       "      <td>4</td>\n",
       "      <td>19</td>\n",
       "      <td>1</td>\n",
       "      <td>Não</td>\n",
       "    </tr>\n",
       "    <tr>\n",
       "      <th>26</th>\n",
       "      <td>6788.4</td>\n",
       "      <td>5</td>\n",
       "      <td>21</td>\n",
       "      <td>1</td>\n",
       "      <td>Não</td>\n",
       "    </tr>\n",
       "    <tr>\n",
       "      <th>44</th>\n",
       "      <td>11974.4</td>\n",
       "      <td>12</td>\n",
       "      <td>25</td>\n",
       "      <td>4</td>\n",
       "      <td>Sim</td>\n",
       "    </tr>\n",
       "    <tr>\n",
       "      <th>35</th>\n",
       "      <td>8086.9</td>\n",
       "      <td>6</td>\n",
       "      <td>14</td>\n",
       "      <td>3</td>\n",
       "      <td>Sim</td>\n",
       "    </tr>\n",
       "  </tbody>\n",
       "</table>\n",
       "</div>"
      ],
      "text/plain": [
       "    Salario  Anos_Educ_Superior  Tempo_Empresa  Tempo_Outras_Empresas Ingles\n",
       "39   9316.0                   6             25                      3    Sim\n",
       "25   6570.9                   4             19                      1    Não\n",
       "26   6788.4                   5             21                      1    Não\n",
       "44  11974.4                  12             25                      4    Sim\n",
       "35   8086.9                   6             14                      3    Sim"
      ]
     },
     "execution_count": 4,
     "metadata": {},
     "output_type": "execute_result"
    }
   ],
   "source": [
    "# Amostra de dados da base\n",
    "df.sample(5, random_state=42)"
   ]
  },
  {
   "cell_type": "markdown",
   "id": "b743a548",
   "metadata": {},
   "source": [
    "## Análise Exploratória"
   ]
  },
  {
   "cell_type": "markdown",
   "id": "756b27a9",
   "metadata": {},
   "source": [
    "### Salários"
   ]
  },
  {
   "cell_type": "code",
   "execution_count": 7,
   "id": "bd4d690a",
   "metadata": {},
   "outputs": [
    {
     "data": {
      "text/plain": [
       "count       46.000000\n",
       "mean      6969.797826\n",
       "std       1924.868873\n",
       "min       4139.500000\n",
       "25%       5818.350000\n",
       "50%       6394.750000\n",
       "75%       7972.400000\n",
       "max      12118.100000\n",
       "Name: Salario, dtype: float64"
      ]
     },
     "execution_count": 7,
     "metadata": {},
     "output_type": "execute_result"
    }
   ],
   "source": [
    "# Estatísticas dos Salários\n",
    "df['Salario'].describe()"
   ]
  },
  {
   "cell_type": "code",
   "execution_count": 5,
   "id": "e660dece",
   "metadata": {},
   "outputs": [
    {
     "data": {
      "image/png": "[encoded data removed]",
      "text/plain": [
       "<Figure size 800x500 with 1 Axes>"
      ]
     },
     "metadata": {},
     "output_type": "display_data"
    }
   ],
   "source": [
    "# Histograma da coluna 'Salario'\n",
    "plt.figure(figsize=(8, 5))\n",
    "n, bins, patches = plt.hist(df['Salario'], bins=20, edgecolor='black')\n",
    "plt.title('Distribuição de Salários')\n",
    "plt.xlabel('Salário')\n",
    "plt.ylabel('Frequência')\n",
    "plt.grid(True)\n",
    "\n",
    "# Adicionar rótulos de dados\n",
    "for i in range(len(patches)):\n",
    "    plt.text(patches[i].get_x() + patches[i].get_width() / 2, patches[i].get_height(),\n",
    "             int(patches[i].get_height()), ha='center', va='bottom')\n",
    "\n",
    "plt.show()"
   ]
  },
  {
   "cell_type": "code",
   "execution_count": 54,
   "id": "36a13dbf",
   "metadata": {},
   "outputs": [
    {
     "data": {
      "image/png": "[encoded data removed]",
      "text/plain": [
       "<Figure size 800x500 with 1 Axes>"
      ]
     },
     "metadata": {},
     "output_type": "display_data"
    }
   ],
   "source": [
    "# Criar o box plot da coluna 'Salario'\n",
    "plt.figure(figsize=(8, 5))\n",
    "plt.boxplot(df['Salario'], vert=False, patch_artist=True, notch=True,\n",
    "            boxprops=dict(facecolor='lightblue', color='blue'),\n",
    "            medianprops=dict(color='red'))\n",
    "\n",
    "# Adicionar título e rótulo ao eixo x\n",
    "plt.title('Box Plot dos Salários')\n",
    "plt.xlabel('Salário')\n",
    "\n",
    "# Exibir o gráfico\n",
    "plt.show()"
   ]
  },
  {
   "cell_type": "markdown",
   "id": "49f3e5e4",
   "metadata": {},
   "source": [
    "### Anos de Educação Superior"
   ]
  },
  {
   "cell_type": "code",
   "execution_count": 13,
   "id": "0e23b117",
   "metadata": {},
   "outputs": [
    {
     "data": {
      "text/plain": [
       "count    46.000000\n",
       "mean      5.065217\n",
       "std       2.839422\n",
       "min       0.000000\n",
       "25%       4.000000\n",
       "50%       5.000000\n",
       "75%       6.000000\n",
       "max      12.000000\n",
       "Name: Anos_Educ_Superior, dtype: float64"
      ]
     },
     "execution_count": 13,
     "metadata": {},
     "output_type": "execute_result"
    }
   ],
   "source": [
    "# Estatísticas dos Anos de Educação Superior \n",
    "df['Anos_Educ_Superior'].describe()"
   ]
  },
  {
   "cell_type": "markdown",
   "id": "67894b7a",
   "metadata": {},
   "source": [
    "### Tempo de Empresa"
   ]
  },
  {
   "cell_type": "code",
   "execution_count": 14,
   "id": "851bd423",
   "metadata": {},
   "outputs": [
    {
     "data": {
      "text/plain": [
       "count    46.000000\n",
       "mean     10.326087\n",
       "std       7.601328\n",
       "min       0.000000\n",
       "25%       5.250000\n",
       "50%       8.500000\n",
       "75%      17.250000\n",
       "max      27.000000\n",
       "Name: Tempo_Empresa, dtype: float64"
      ]
     },
     "execution_count": 14,
     "metadata": {},
     "output_type": "execute_result"
    }
   ],
   "source": [
    "# Estatísticas do tempo de empresa\n",
    "df['Tempo_Empresa'].describe()"
   ]
  },
  {
   "cell_type": "markdown",
   "id": "1194a9d8",
   "metadata": {},
   "source": [
    "### Tempo em Outras Empresas"
   ]
  },
  {
   "cell_type": "code",
   "execution_count": 16,
   "id": "e9706bc3",
   "metadata": {},
   "outputs": [
    {
     "data": {
      "text/plain": [
       "count    46.000000\n",
       "mean      4.608696\n",
       "std       3.726650\n",
       "min       0.000000\n",
       "25%       2.250000\n",
       "50%       4.000000\n",
       "75%       6.000000\n",
       "max      19.000000\n",
       "Name: Tempo_Outras_Empresas, dtype: float64"
      ]
     },
     "execution_count": 16,
     "metadata": {},
     "output_type": "execute_result"
    }
   ],
   "source": [
    "# Estatísticas do tempo em outras empresas\n",
    "df['Tempo_Outras_Empresas'].describe()"
   ]
  },
  {
   "cell_type": "markdown",
   "id": "61bda06a",
   "metadata": {},
   "source": [
    "### Inglês"
   ]
  },
  {
   "cell_type": "code",
   "execution_count": null,
   "id": "fe8949ae",
   "metadata": {},
   "outputs": [],
   "source": []
  },
  {
   "cell_type": "markdown",
   "id": "fed84e77",
   "metadata": {},
   "source": [
    "## Análise Bidimensional"
   ]
  },
  {
   "cell_type": "code",
   "execution_count": 21,
   "id": "bc259126",
   "metadata": {
    "scrolled": true
   },
   "outputs": [
    {
     "data": {
      "image/png": "[encoded data removed]",
      "text/plain": [
       "<Figure size 1500x500 with 3 Axes>"
      ]
     },
     "metadata": {},
     "output_type": "display_data"
    }
   ],
   "source": [
    "fig, ((ax1, ax2, ax3)) = plt.subplots(1, 3, sharey=True, figsize=(15, 5))\n",
    "\n",
    "ax1.scatter(df['Anos_Educ_Superior'], df['Salario'])\n",
    "ax1.set_xlabel('Anos de Educação Superior')\n",
    "ax1.set_ylabel('Salário')\n",
    "\n",
    "ax2.scatter(df['Tempo_Empresa'], df['Salario'])\n",
    "ax2.set_xlabel('Tempo na Empresa')\n",
    "\n",
    "ax3.scatter(df['Tempo_Outras_Empresas'], df['Salario'])\n",
    "ax3.set_xlabel('Tempo em Outras Empresas')\n",
    "\n",
    "plt.tight_layout()\n",
    "plt.show()"
   ]
  },
  {
   "cell_type": "code",
   "execution_count": 22,
   "id": "86235fe8",
   "metadata": {},
   "outputs": [
    {
     "data": {
      "image/png": "[encoded data removed]",
      "text/plain": [
       "<Figure size 640x480 with 1 Axes>"
      ]
     },
     "metadata": {},
     "output_type": "display_data"
    }
   ],
   "source": [
    "sns.boxplot(x=df['Ingles'], y=df['Salario']);"
   ]
  },
  {
   "cell_type": "markdown",
   "id": "415c2922",
   "metadata": {},
   "source": [
    "Como a distribuição entre quem tem e não tem skill de dados é tão diferente, é praticamente certo que essa variável contribuirá para que o modelo explique ainda mais a variabilidade da variável salário, ou seja, aumente o R². **Na prática**: as estimativas realizadas pelo modelo serão ainda melhores."
   ]
  },
  {
   "cell_type": "code",
   "execution_count": 24,
   "id": "562a13c0",
   "metadata": {},
   "outputs": [
    {
     "data": {
      "image/png": "[encoded data removed]",
      "text/plain": [
       "<Figure size 700x500 with 2 Axes>"
      ]
     },
     "metadata": {},
     "output_type": "display_data"
    }
   ],
   "source": [
    "fig = plt.figure(figsize=(7,5))\n",
    "sns.heatmap(df.corr(),\n",
    "            cmap='RdBu_r',\n",
    "            vmin=-1, vmax=1,\n",
    "            annot=True);"
   ]
  },
  {
   "cell_type": "markdown",
   "id": "6afb7343",
   "metadata": {},
   "source": [
    "## Preparação dos Dados"
   ]
  },
  {
   "cell_type": "markdown",
   "id": "273ad2d6",
   "metadata": {},
   "source": [
    "# Criando variáveis Dummy"
   ]
  },
  {
   "cell_type": "code",
   "execution_count": 25,
   "id": "176a7cbd",
   "metadata": {},
   "outputs": [
    {
     "data": {
      "text/html": [
       "<div>\n",
       "<style scoped>\n",
       "    .dataframe tbody tr th:only-of-type {\n",
       "        vertical-align: middle;\n",
       "    }\n",
       "\n",
       "    .dataframe tbody tr th {\n",
       "        vertical-align: top;\n",
       "    }\n",
       "\n",
       "    .dataframe thead th {\n",
       "        text-align: right;\n",
       "    }\n",
       "</style>\n",
       "<table border=\"1\" class=\"dataframe\">\n",
       "  <thead>\n",
       "    <tr style=\"text-align: right;\">\n",
       "      <th></th>\n",
       "      <th>Salario</th>\n",
       "      <th>Anos_Educ_Superior</th>\n",
       "      <th>Tempo_Empresa</th>\n",
       "      <th>Tempo_Outras_Empresas</th>\n",
       "      <th>Ingles</th>\n",
       "    </tr>\n",
       "  </thead>\n",
       "  <tbody>\n",
       "    <tr>\n",
       "      <th>39</th>\n",
       "      <td>9316.0</td>\n",
       "      <td>6</td>\n",
       "      <td>25</td>\n",
       "      <td>3</td>\n",
       "      <td>Sim</td>\n",
       "    </tr>\n",
       "    <tr>\n",
       "      <th>25</th>\n",
       "      <td>6570.9</td>\n",
       "      <td>4</td>\n",
       "      <td>19</td>\n",
       "      <td>1</td>\n",
       "      <td>Não</td>\n",
       "    </tr>\n",
       "    <tr>\n",
       "      <th>26</th>\n",
       "      <td>6788.4</td>\n",
       "      <td>5</td>\n",
       "      <td>21</td>\n",
       "      <td>1</td>\n",
       "      <td>Não</td>\n",
       "    </tr>\n",
       "    <tr>\n",
       "      <th>44</th>\n",
       "      <td>11974.4</td>\n",
       "      <td>12</td>\n",
       "      <td>25</td>\n",
       "      <td>4</td>\n",
       "      <td>Sim</td>\n",
       "    </tr>\n",
       "    <tr>\n",
       "      <th>35</th>\n",
       "      <td>8086.9</td>\n",
       "      <td>6</td>\n",
       "      <td>14</td>\n",
       "      <td>3</td>\n",
       "      <td>Sim</td>\n",
       "    </tr>\n",
       "  </tbody>\n",
       "</table>\n",
       "</div>"
      ],
      "text/plain": [
       "    Salario  Anos_Educ_Superior  Tempo_Empresa  Tempo_Outras_Empresas Ingles\n",
       "39   9316.0                   6             25                      3    Sim\n",
       "25   6570.9                   4             19                      1    Não\n",
       "26   6788.4                   5             21                      1    Não\n",
       "44  11974.4                  12             25                      4    Sim\n",
       "35   8086.9                   6             14                      3    Sim"
      ]
     },
     "execution_count": 25,
     "metadata": {},
     "output_type": "execute_result"
    }
   ],
   "source": [
    "df.sample(5, random_state=42)"
   ]
  },
  {
   "cell_type": "code",
   "execution_count": 26,
   "id": "1f0c888b",
   "metadata": {},
   "outputs": [
    {
     "data": {
      "text/html": [
       "<div>\n",
       "<style scoped>\n",
       "    .dataframe tbody tr th:only-of-type {\n",
       "        vertical-align: middle;\n",
       "    }\n",
       "\n",
       "    .dataframe tbody tr th {\n",
       "        vertical-align: top;\n",
       "    }\n",
       "\n",
       "    .dataframe thead th {\n",
       "        text-align: right;\n",
       "    }\n",
       "</style>\n",
       "<table border=\"1\" class=\"dataframe\">\n",
       "  <thead>\n",
       "    <tr style=\"text-align: right;\">\n",
       "      <th></th>\n",
       "      <th>Salario</th>\n",
       "      <th>Anos_Educ_Superior</th>\n",
       "      <th>Tempo_Empresa</th>\n",
       "      <th>Tempo_Outras_Empresas</th>\n",
       "      <th>Ingles_Sim</th>\n",
       "    </tr>\n",
       "  </thead>\n",
       "  <tbody>\n",
       "    <tr>\n",
       "      <th>39</th>\n",
       "      <td>9316.0</td>\n",
       "      <td>6</td>\n",
       "      <td>25</td>\n",
       "      <td>3</td>\n",
       "      <td>1</td>\n",
       "    </tr>\n",
       "    <tr>\n",
       "      <th>25</th>\n",
       "      <td>6570.9</td>\n",
       "      <td>4</td>\n",
       "      <td>19</td>\n",
       "      <td>1</td>\n",
       "      <td>0</td>\n",
       "    </tr>\n",
       "    <tr>\n",
       "      <th>26</th>\n",
       "      <td>6788.4</td>\n",
       "      <td>5</td>\n",
       "      <td>21</td>\n",
       "      <td>1</td>\n",
       "      <td>0</td>\n",
       "    </tr>\n",
       "    <tr>\n",
       "      <th>44</th>\n",
       "      <td>11974.4</td>\n",
       "      <td>12</td>\n",
       "      <td>25</td>\n",
       "      <td>4</td>\n",
       "      <td>1</td>\n",
       "    </tr>\n",
       "    <tr>\n",
       "      <th>35</th>\n",
       "      <td>8086.9</td>\n",
       "      <td>6</td>\n",
       "      <td>14</td>\n",
       "      <td>3</td>\n",
       "      <td>1</td>\n",
       "    </tr>\n",
       "  </tbody>\n",
       "</table>\n",
       "</div>"
      ],
      "text/plain": [
       "    Salario  Anos_Educ_Superior  Tempo_Empresa  Tempo_Outras_Empresas  \\\n",
       "39   9316.0                   6             25                      3   \n",
       "25   6570.9                   4             19                      1   \n",
       "26   6788.4                   5             21                      1   \n",
       "44  11974.4                  12             25                      4   \n",
       "35   8086.9                   6             14                      3   \n",
       "\n",
       "    Ingles_Sim  \n",
       "39           1  \n",
       "25           0  \n",
       "26           0  \n",
       "44           1  \n",
       "35           1  "
      ]
     },
     "execution_count": 26,
     "metadata": {},
     "output_type": "execute_result"
    }
   ],
   "source": [
    "# 1a Forma: Usando get_dummies()\n",
    "df2 = pd.get_dummies(df, drop_first=True)\n",
    "df2.sample(5, random_state=42)"
   ]
  },
  {
   "cell_type": "markdown",
   "id": "028e0f69",
   "metadata": {},
   "source": [
    "### Ajuste do Modelo de Regressão usando o Statsmodels (Pacote de Modelos Estatísticos)"
   ]
  },
  {
   "cell_type": "code",
   "execution_count": 27,
   "id": "d6d3faa4",
   "metadata": {},
   "outputs": [
    {
     "data": {
      "text/html": [
       "<div>\n",
       "<style scoped>\n",
       "    .dataframe tbody tr th:only-of-type {\n",
       "        vertical-align: middle;\n",
       "    }\n",
       "\n",
       "    .dataframe tbody tr th {\n",
       "        vertical-align: top;\n",
       "    }\n",
       "\n",
       "    .dataframe thead th {\n",
       "        text-align: right;\n",
       "    }\n",
       "</style>\n",
       "<table border=\"1\" class=\"dataframe\">\n",
       "  <thead>\n",
       "    <tr style=\"text-align: right;\">\n",
       "      <th></th>\n",
       "      <th>Salario</th>\n",
       "      <th>Anos_Educ_Superior</th>\n",
       "      <th>Tempo_Empresa</th>\n",
       "      <th>Tempo_Outras_Empresas</th>\n",
       "      <th>Ingles_Sim</th>\n",
       "    </tr>\n",
       "  </thead>\n",
       "  <tbody>\n",
       "    <tr>\n",
       "      <th>0</th>\n",
       "      <td>4139.5</td>\n",
       "      <td>0</td>\n",
       "      <td>0</td>\n",
       "      <td>11</td>\n",
       "      <td>0</td>\n",
       "    </tr>\n",
       "    <tr>\n",
       "      <th>1</th>\n",
       "      <td>4331.1</td>\n",
       "      <td>0</td>\n",
       "      <td>6</td>\n",
       "      <td>1</td>\n",
       "      <td>0</td>\n",
       "    </tr>\n",
       "    <tr>\n",
       "      <th>2</th>\n",
       "      <td>4629.1</td>\n",
       "      <td>2</td>\n",
       "      <td>1</td>\n",
       "      <td>6</td>\n",
       "      <td>0</td>\n",
       "    </tr>\n",
       "    <tr>\n",
       "      <th>3</th>\n",
       "      <td>4645.9</td>\n",
       "      <td>0</td>\n",
       "      <td>5</td>\n",
       "      <td>4</td>\n",
       "      <td>0</td>\n",
       "    </tr>\n",
       "    <tr>\n",
       "      <th>4</th>\n",
       "      <td>4651.2</td>\n",
       "      <td>2</td>\n",
       "      <td>0</td>\n",
       "      <td>6</td>\n",
       "      <td>0</td>\n",
       "    </tr>\n",
       "  </tbody>\n",
       "</table>\n",
       "</div>"
      ],
      "text/plain": [
       "   Salario  Anos_Educ_Superior  Tempo_Empresa  Tempo_Outras_Empresas  \\\n",
       "0   4139.5                   0              0                     11   \n",
       "1   4331.1                   0              6                      1   \n",
       "2   4629.1                   2              1                      6   \n",
       "3   4645.9                   0              5                      4   \n",
       "4   4651.2                   2              0                      6   \n",
       "\n",
       "   Ingles_Sim  \n",
       "0           0  \n",
       "1           0  \n",
       "2           0  \n",
       "3           0  \n",
       "4           0  "
      ]
     },
     "execution_count": 27,
     "metadata": {},
     "output_type": "execute_result"
    }
   ],
   "source": [
    "df2.head()"
   ]
  },
  {
   "cell_type": "code",
   "execution_count": 29,
   "id": "0c3aba9b",
   "metadata": {},
   "outputs": [],
   "source": [
    "# Variável resposta\n",
    "y = df2['Salario']\n",
    "\n",
    "# Variáveis explicativas\n",
    "df2['intercepto'] = 1 \n",
    "\n",
    "x = df2[['intercepto',\n",
    "         'Anos_Educ_Superior',\n",
    "         'Tempo_Empresa',\n",
    "         'Tempo_Outras_Empresas',\n",
    "         'Ingles_Sim']]"
   ]
  },
  {
   "cell_type": "code",
   "execution_count": 30,
   "id": "bc406340",
   "metadata": {},
   "outputs": [
    {
     "name": "stdout",
     "output_type": "stream",
     "text": [
      "                            OLS Regression Results                            \n",
      "==============================================================================\n",
      "Dep. Variable:                Salario   R-squared:                       0.869\n",
      "Model:                            OLS   Adj. R-squared:                  0.856\n",
      "Method:                 Least Squares   F-statistic:                     67.72\n",
      "Date:                Sat, 13 Jul 2024   Prob (F-statistic):           1.62e-17\n",
      "Time:                        13:55:16   Log-Likelihood:                -365.98\n",
      "No. Observations:                  46   AIC:                             742.0\n",
      "Df Residuals:                      41   BIC:                             751.1\n",
      "Df Model:                           4                                         \n",
      "Covariance Type:            nonrobust                                         \n",
      "=========================================================================================\n",
      "                            coef    std err          t      P>|t|      [0.025      0.975]\n",
      "-----------------------------------------------------------------------------------------\n",
      "intercepto             4423.0237    291.110     15.194      0.000    3835.114    5010.933\n",
      "Anos_Educ_Superior      254.6696     50.332      5.060      0.000     153.022     356.317\n",
      "Tempo_Empresa            61.6230     20.383      3.023      0.004      20.459     102.787\n",
      "Tempo_Outras_Empresas     5.9686     30.572      0.195      0.846     -55.772      67.709\n",
      "Ingles_Sim             1948.3821    324.014      6.013      0.000    1294.022    2602.742\n",
      "==============================================================================\n",
      "Omnibus:                        9.213   Durbin-Watson:                   1.248\n",
      "Prob(Omnibus):                  0.010   Jarque-Bera (JB):               11.446\n",
      "Skew:                          -0.620   Prob(JB):                      0.00327\n",
      "Kurtosis:                       5.106   Cond. No.                         48.6\n",
      "==============================================================================\n",
      "\n",
      "Notes:\n",
      "[1] Standard Errors assume that the covariance matrix of the errors is correctly specified.\n"
     ]
    }
   ],
   "source": [
    "# Ajusta o modelo e retorna os resultados\n",
    "modelo = sm.OLS(y , x)\n",
    "resultado = modelo.fit()\n",
    "print(resultado.summary())"
   ]
  },
  {
   "cell_type": "markdown",
   "id": "22f9d7d6",
   "metadata": {},
   "source": [
    "\n",
    "Quando uma variável tem um p-valor superior a 5%, significa que ela não é estatisticamente significativa. No nosso caso, Tempo_Outras_Empresas apresentou um p-valor acima desse limite, indicando que não há evidências suficientes para afirmar que ela afeta o salário de forma consistente. Por isso, foi excluída do modelo para focarmos nas variáveis que realmente influenciam o salário."
   ]
  },
  {
   "cell_type": "code",
   "execution_count": 31,
   "id": "7479ed5a",
   "metadata": {},
   "outputs": [],
   "source": [
    "# Variável resposta\n",
    "y = df2['Salario']\n",
    "\n",
    "# Variáveis explicativas\n",
    "df2['intercepto'] = 1 \n",
    "\n",
    "x = df2[['intercepto',\n",
    "         'Anos_Educ_Superior',\n",
    "         'Tempo_Empresa',\n",
    "         'Ingles_Sim']]"
   ]
  },
  {
   "cell_type": "code",
   "execution_count": 32,
   "id": "c84ba8de",
   "metadata": {},
   "outputs": [
    {
     "name": "stdout",
     "output_type": "stream",
     "text": [
      "                            OLS Regression Results                            \n",
      "==============================================================================\n",
      "Dep. Variable:                Salario   R-squared:                       0.868\n",
      "Model:                            OLS   Adj. R-squared:                  0.859\n",
      "Method:                 Least Squares   F-statistic:                     92.39\n",
      "Date:                Sat, 13 Jul 2024   Prob (F-statistic):           1.57e-18\n",
      "Time:                        13:58:56   Log-Likelihood:                -366.00\n",
      "No. Observations:                  46   AIC:                             740.0\n",
      "Df Residuals:                      42   BIC:                             747.3\n",
      "Df Model:                           3                                         \n",
      "Covariance Type:            nonrobust                                         \n",
      "======================================================================================\n",
      "                         coef    std err          t      P>|t|      [0.025      0.975]\n",
      "--------------------------------------------------------------------------------------\n",
      "intercepto          4456.7757    231.520     19.250      0.000    3989.550    4924.002\n",
      "Anos_Educ_Superior   253.5846     49.448      5.128      0.000     153.794     353.375\n",
      "Tempo_Empresa         61.0203     19.916      3.064      0.004      20.829     101.212\n",
      "Ingles_Sim          1966.3703    307.060      6.404      0.000    1346.697    2586.043\n",
      "==============================================================================\n",
      "Omnibus:                        9.341   Durbin-Watson:                   1.228\n",
      "Prob(Omnibus):                  0.009   Jarque-Bera (JB):               11.431\n",
      "Skew:                          -0.641   Prob(JB):                      0.00329\n",
      "Kurtosis:                       5.079   Cond. No.                         41.5\n",
      "==============================================================================\n",
      "\n",
      "Notes:\n",
      "[1] Standard Errors assume that the covariance matrix of the errors is correctly specified.\n"
     ]
    }
   ],
   "source": [
    "# Ajusta o modelo e retorna os resultados\n",
    "modelo = sm.OLS(y , x)\n",
    "resultado = modelo.fit()\n",
    "print(resultado.summary())"
   ]
  },
  {
   "cell_type": "markdown",
   "id": "f38cf889",
   "metadata": {},
   "source": [
    "## Equação do modelo"
   ]
  },
  {
   "cell_type": "markdown",
   "id": "a9d5c517",
   "metadata": {},
   "source": [
    "Salário = $\\beta_0$ + $\\beta_1$ x Anos Educação Superior + $\\beta_2$ x Tempo Empresa + $\\beta_3$ x Possui Skill Dados (Sim)"
   ]
  },
  {
   "cell_type": "markdown",
   "id": "fabc8365",
   "metadata": {},
   "source": [
    "## Interpretação do Modelo"
   ]
  },
  {
   "cell_type": "markdown",
   "id": "df5bb296",
   "metadata": {},
   "source": [
    "**Intercepto ou $\\beta_0$**: Salário médio de um colaborador sem educação superior, recém chegado na empresa e sem saber falar inglês é de `R$4.456,78`.<br>\n",
    "**$\\beta_1$** x Anos de Educação Superior: Cada ano adicional de educação superior, mantendo tempo de empresa e sabendo falar  inglês, gera um aumento médio de `R$253,58`.<br>\n",
    "**$\\beta_2$** x Tempo de Empresa: Cada ano adicional de tempo de empresa, mantendo os anos de educação superior e sabendo falar  inglês, gera um aumento médio de `R$61,20`.<br>\n",
    "**$\\beta_3$** x Sabe Inglês: Saber falar inglês, mantendo os anos de educação superior e tempo de empresa constantes, gera um aumento médio de `R$1.966,37`."
   ]
  }
 ],
 "metadata": {
  "kernelspec": {
   "display_name": "Python 3 (ipykernel)",
   "language": "python",
   "name": "python3"
  },
  "language_info": {
   "codemirror_mode": {
    "name": "ipython",
    "version": 3
   },
   "file_extension": ".py",
   "mimetype": "text/x-python",
   "name": "python",
   "nbconvert_exporter": "python",
   "pygments_lexer": "ipython3",
   "version": "3.9.13"
  }
 },
 "nbformat": 4,
 "nbformat_minor": 5
}
