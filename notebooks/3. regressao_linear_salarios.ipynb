{
 "cells": [
  {
   "cell_type": "markdown",
   "id": "8137a536",
   "metadata": {},
   "source": [
    "## Importação das Bibliotecas"
   ]
  },
  {
   "cell_type": "code",
   "execution_count": 1,
   "id": "82d5b886",
   "metadata": {},
   "outputs": [],
   "source": [
    "# Pacotes de manipulação de dados\n",
    "import numpy as np\n",
    "import pandas as pd\n",
    "\n",
    "# Configuração de caminho para importar módulos locais\n",
    "import sys\n",
    "import os\n",
    "\n",
    "# Adiciona a pasta 'analysis' ao sys.path\n",
    "sys.path.append(os.path.abspath('../analysis'))\n",
    "\n",
    "# Pacotes gráficos\n",
    "import matplotlib.pyplot as plt\n",
    "import seaborn as sns\n",
    "from composicao_estatisticas import grafico_residuos\n",
    "\n",
    "# Pacotes de modelagem\n",
    "import statsmodels.api as sm\n",
    "from scipy.stats import pearsonr"
   ]
  },
  {
   "cell_type": "markdown",
   "id": "43a40669",
   "metadata": {},
   "source": [
    "## Importação e tratamento da base de dados"
   ]
  },
  {
   "cell_type": "code",
   "execution_count": 2,
   "id": "dd062f41",
   "metadata": {},
   "outputs": [],
   "source": [
    "# Carregar os dados do arquivo Excel\n",
    "df = pd.read_excel('../data/base_salarios.xlsx')"
   ]
  },
  {
   "cell_type": "code",
   "execution_count": 3,
   "id": "86f72640",
   "metadata": {},
   "outputs": [
    {
     "name": "stdout",
     "output_type": "stream",
     "text": [
      "Número de linhas e colunas:\n",
      "(46, 6)\n"
     ]
    }
   ],
   "source": [
    "# Exibir o número de linhas e colunas\n",
    "print('Número de linhas e colunas:')\n",
    "print(df.shape)"
   ]
  },
  {
   "cell_type": "code",
   "execution_count": 4,
   "id": "f9bcf664",
   "metadata": {},
   "outputs": [
    {
     "data": {
      "text/html": [
       "<div>\n",
       "<style scoped>\n",
       "    .dataframe tbody tr th:only-of-type {\n",
       "        vertical-align: middle;\n",
       "    }\n",
       "\n",
       "    .dataframe tbody tr th {\n",
       "        vertical-align: top;\n",
       "    }\n",
       "\n",
       "    .dataframe thead th {\n",
       "        text-align: right;\n",
       "    }\n",
       "</style>\n",
       "<table border=\"1\" class=\"dataframe\">\n",
       "  <thead>\n",
       "    <tr style=\"text-align: right;\">\n",
       "      <th></th>\n",
       "      <th>Núm. Funcionário</th>\n",
       "      <th>Salario</th>\n",
       "      <th>Anos de Educação Superior</th>\n",
       "      <th>Tempo na Empresa</th>\n",
       "      <th>Tempo de Experiencia em outras empresas</th>\n",
       "      <th>Inglês</th>\n",
       "    </tr>\n",
       "  </thead>\n",
       "  <tbody>\n",
       "    <tr>\n",
       "      <th>0</th>\n",
       "      <td>29</td>\n",
       "      <td>4139.5</td>\n",
       "      <td>0</td>\n",
       "      <td>0</td>\n",
       "      <td>11</td>\n",
       "      <td>Não</td>\n",
       "    </tr>\n",
       "    <tr>\n",
       "      <th>1</th>\n",
       "      <td>19</td>\n",
       "      <td>4331.1</td>\n",
       "      <td>0</td>\n",
       "      <td>6</td>\n",
       "      <td>1</td>\n",
       "      <td>Não</td>\n",
       "    </tr>\n",
       "    <tr>\n",
       "      <th>2</th>\n",
       "      <td>38</td>\n",
       "      <td>4629.1</td>\n",
       "      <td>2</td>\n",
       "      <td>1</td>\n",
       "      <td>6</td>\n",
       "      <td>Não</td>\n",
       "    </tr>\n",
       "    <tr>\n",
       "      <th>3</th>\n",
       "      <td>26</td>\n",
       "      <td>4645.9</td>\n",
       "      <td>0</td>\n",
       "      <td>5</td>\n",
       "      <td>4</td>\n",
       "      <td>Não</td>\n",
       "    </tr>\n",
       "    <tr>\n",
       "      <th>4</th>\n",
       "      <td>17</td>\n",
       "      <td>4651.2</td>\n",
       "      <td>2</td>\n",
       "      <td>0</td>\n",
       "      <td>6</td>\n",
       "      <td>Não</td>\n",
       "    </tr>\n",
       "    <tr>\n",
       "      <th>5</th>\n",
       "      <td>20</td>\n",
       "      <td>5072.4</td>\n",
       "      <td>4</td>\n",
       "      <td>0</td>\n",
       "      <td>6</td>\n",
       "      <td>Não</td>\n",
       "    </tr>\n",
       "    <tr>\n",
       "      <th>6</th>\n",
       "      <td>44</td>\n",
       "      <td>5170.9</td>\n",
       "      <td>1</td>\n",
       "      <td>5</td>\n",
       "      <td>9</td>\n",
       "      <td>Não</td>\n",
       "    </tr>\n",
       "    <tr>\n",
       "      <th>7</th>\n",
       "      <td>34</td>\n",
       "      <td>5228.3</td>\n",
       "      <td>3</td>\n",
       "      <td>2</td>\n",
       "      <td>2</td>\n",
       "      <td>Não</td>\n",
       "    </tr>\n",
       "  </tbody>\n",
       "</table>\n",
       "</div>"
      ],
      "text/plain": [
       "   Núm. Funcionário  Salario  Anos de Educação Superior  Tempo na Empresa  \\\n",
       "0                29   4139.5                          0                 0   \n",
       "1                19   4331.1                          0                 6   \n",
       "2                38   4629.1                          2                 1   \n",
       "3                26   4645.9                          0                 5   \n",
       "4                17   4651.2                          2                 0   \n",
       "5                20   5072.4                          4                 0   \n",
       "6                44   5170.9                          1                 5   \n",
       "7                34   5228.3                          3                 2   \n",
       "\n",
       "   Tempo de Experiencia em outras empresas Inglês  \n",
       "0                                       11    Não  \n",
       "1                                        1    Não  \n",
       "2                                        6    Não  \n",
       "3                                        4    Não  \n",
       "4                                        6    Não  \n",
       "5                                        6    Não  \n",
       "6                                        9    Não  \n",
       "7                                        2    Não  "
      ]
     },
     "execution_count": 4,
     "metadata": {},
     "output_type": "execute_result"
    }
   ],
   "source": [
    "# Exibir as primeiras linhas dos dados\n",
    "df.head(8)"
   ]
  },
  {
   "cell_type": "code",
   "execution_count": 5,
   "id": "a173af3b",
   "metadata": {},
   "outputs": [],
   "source": [
    "# Remover as colunas desnecessárias\n",
    "columns_to_drop = ['Núm. Funcionário']\n",
    "columns_to_drop = [col for col in columns_to_drop if col in df.columns]\n",
    "df.drop(columns=columns_to_drop, inplace=True)\n",
    "\n",
    "\n",
    "# Renomear as colunas conforme especificado\n",
    "df.rename(columns={\n",
    "    'Salario': 'Salario',\n",
    "    'Anos de Educação Superior': 'Anos_Educ_Superior',\n",
    "    'Tempo na Empresa': 'Tempo_Empresa',\n",
    "    'Tempo de Experiencia em outras empresas': 'Tempo_Outras_Empresas',\n",
    "    'Inglês': 'Ingles'\n",
    "}, inplace=True)"
   ]
  },
  {
   "cell_type": "markdown",
   "id": "cd522e2b",
   "metadata": {},
   "source": [
    "## Preparação dos Dados"
   ]
  },
  {
   "cell_type": "markdown",
   "id": "2ba2a4ca",
   "metadata": {},
   "source": [
    "### Criando variáveis Dummy"
   ]
  },
  {
   "cell_type": "code",
   "execution_count": 6,
   "id": "9a773113",
   "metadata": {},
   "outputs": [
    {
     "data": {
      "text/html": [
       "<div>\n",
       "<style scoped>\n",
       "    .dataframe tbody tr th:only-of-type {\n",
       "        vertical-align: middle;\n",
       "    }\n",
       "\n",
       "    .dataframe tbody tr th {\n",
       "        vertical-align: top;\n",
       "    }\n",
       "\n",
       "    .dataframe thead th {\n",
       "        text-align: right;\n",
       "    }\n",
       "</style>\n",
       "<table border=\"1\" class=\"dataframe\">\n",
       "  <thead>\n",
       "    <tr style=\"text-align: right;\">\n",
       "      <th></th>\n",
       "      <th>Salario</th>\n",
       "      <th>Anos_Educ_Superior</th>\n",
       "      <th>Tempo_Empresa</th>\n",
       "      <th>Tempo_Outras_Empresas</th>\n",
       "      <th>Ingles</th>\n",
       "    </tr>\n",
       "  </thead>\n",
       "  <tbody>\n",
       "    <tr>\n",
       "      <th>39</th>\n",
       "      <td>9316.0</td>\n",
       "      <td>6</td>\n",
       "      <td>25</td>\n",
       "      <td>3</td>\n",
       "      <td>Sim</td>\n",
       "    </tr>\n",
       "    <tr>\n",
       "      <th>25</th>\n",
       "      <td>6570.9</td>\n",
       "      <td>4</td>\n",
       "      <td>19</td>\n",
       "      <td>1</td>\n",
       "      <td>Não</td>\n",
       "    </tr>\n",
       "    <tr>\n",
       "      <th>26</th>\n",
       "      <td>6788.4</td>\n",
       "      <td>5</td>\n",
       "      <td>21</td>\n",
       "      <td>1</td>\n",
       "      <td>Não</td>\n",
       "    </tr>\n",
       "    <tr>\n",
       "      <th>44</th>\n",
       "      <td>11974.4</td>\n",
       "      <td>12</td>\n",
       "      <td>25</td>\n",
       "      <td>4</td>\n",
       "      <td>Sim</td>\n",
       "    </tr>\n",
       "    <tr>\n",
       "      <th>35</th>\n",
       "      <td>8086.9</td>\n",
       "      <td>6</td>\n",
       "      <td>14</td>\n",
       "      <td>3</td>\n",
       "      <td>Sim</td>\n",
       "    </tr>\n",
       "  </tbody>\n",
       "</table>\n",
       "</div>"
      ],
      "text/plain": [
       "    Salario  Anos_Educ_Superior  Tempo_Empresa  Tempo_Outras_Empresas Ingles\n",
       "39   9316.0                   6             25                      3    Sim\n",
       "25   6570.9                   4             19                      1    Não\n",
       "26   6788.4                   5             21                      1    Não\n",
       "44  11974.4                  12             25                      4    Sim\n",
       "35   8086.9                   6             14                      3    Sim"
      ]
     },
     "execution_count": 6,
     "metadata": {},
     "output_type": "execute_result"
    }
   ],
   "source": [
    "# Amostra de dados da base\n",
    "df.sample(5, random_state=42)"
   ]
  },
  {
   "cell_type": "code",
   "execution_count": 7,
   "id": "31c04fb9",
   "metadata": {},
   "outputs": [
    {
     "data": {
      "text/html": [
       "<div>\n",
       "<style scoped>\n",
       "    .dataframe tbody tr th:only-of-type {\n",
       "        vertical-align: middle;\n",
       "    }\n",
       "\n",
       "    .dataframe tbody tr th {\n",
       "        vertical-align: top;\n",
       "    }\n",
       "\n",
       "    .dataframe thead th {\n",
       "        text-align: right;\n",
       "    }\n",
       "</style>\n",
       "<table border=\"1\" class=\"dataframe\">\n",
       "  <thead>\n",
       "    <tr style=\"text-align: right;\">\n",
       "      <th></th>\n",
       "      <th>Salario</th>\n",
       "      <th>Anos_Educ_Superior</th>\n",
       "      <th>Tempo_Empresa</th>\n",
       "      <th>Tempo_Outras_Empresas</th>\n",
       "      <th>Ingles_Sim</th>\n",
       "    </tr>\n",
       "  </thead>\n",
       "  <tbody>\n",
       "    <tr>\n",
       "      <th>39</th>\n",
       "      <td>9316</td>\n",
       "      <td>6</td>\n",
       "      <td>25</td>\n",
       "      <td>3</td>\n",
       "      <td>1</td>\n",
       "    </tr>\n",
       "    <tr>\n",
       "      <th>25</th>\n",
       "      <td>6570</td>\n",
       "      <td>4</td>\n",
       "      <td>19</td>\n",
       "      <td>1</td>\n",
       "      <td>0</td>\n",
       "    </tr>\n",
       "    <tr>\n",
       "      <th>26</th>\n",
       "      <td>6788</td>\n",
       "      <td>5</td>\n",
       "      <td>21</td>\n",
       "      <td>1</td>\n",
       "      <td>0</td>\n",
       "    </tr>\n",
       "    <tr>\n",
       "      <th>44</th>\n",
       "      <td>11974</td>\n",
       "      <td>12</td>\n",
       "      <td>25</td>\n",
       "      <td>4</td>\n",
       "      <td>1</td>\n",
       "    </tr>\n",
       "    <tr>\n",
       "      <th>35</th>\n",
       "      <td>8086</td>\n",
       "      <td>6</td>\n",
       "      <td>14</td>\n",
       "      <td>3</td>\n",
       "      <td>1</td>\n",
       "    </tr>\n",
       "  </tbody>\n",
       "</table>\n",
       "</div>"
      ],
      "text/plain": [
       "    Salario  Anos_Educ_Superior  Tempo_Empresa  Tempo_Outras_Empresas  \\\n",
       "39     9316                   6             25                      3   \n",
       "25     6570                   4             19                      1   \n",
       "26     6788                   5             21                      1   \n",
       "44    11974                  12             25                      4   \n",
       "35     8086                   6             14                      3   \n",
       "\n",
       "    Ingles_Sim  \n",
       "39           1  \n",
       "25           0  \n",
       "26           0  \n",
       "44           1  \n",
       "35           1  "
      ]
     },
     "execution_count": 7,
     "metadata": {},
     "output_type": "execute_result"
    }
   ],
   "source": [
    "# Criação da variável dummy usando o get_dummies()\n",
    "df2 = pd.get_dummies(df, drop_first=True)\n",
    "\n",
    "# Converter True/False para 1/0\n",
    "df2 = df2.astype(int)\n",
    "\n",
    "df2.sample(5, random_state=42)\n",
    "# df.head()"
   ]
  },
  {
   "cell_type": "markdown",
   "id": "fb642a5c",
   "metadata": {},
   "source": [
    "## Ajuste do Modelo de Regressão \n",
    "Usando o Statsmodels (Pacote de Modelos Estatísticos)"
   ]
  },
  {
   "cell_type": "code",
   "execution_count": 8,
   "id": "294ca593",
   "metadata": {},
   "outputs": [
    {
     "data": {
      "text/html": [
       "<div>\n",
       "<style scoped>\n",
       "    .dataframe tbody tr th:only-of-type {\n",
       "        vertical-align: middle;\n",
       "    }\n",
       "\n",
       "    .dataframe tbody tr th {\n",
       "        vertical-align: top;\n",
       "    }\n",
       "\n",
       "    .dataframe thead th {\n",
       "        text-align: right;\n",
       "    }\n",
       "</style>\n",
       "<table border=\"1\" class=\"dataframe\">\n",
       "  <thead>\n",
       "    <tr style=\"text-align: right;\">\n",
       "      <th></th>\n",
       "      <th>Salario</th>\n",
       "      <th>Anos_Educ_Superior</th>\n",
       "      <th>Tempo_Empresa</th>\n",
       "      <th>Tempo_Outras_Empresas</th>\n",
       "      <th>Ingles_Sim</th>\n",
       "    </tr>\n",
       "  </thead>\n",
       "  <tbody>\n",
       "    <tr>\n",
       "      <th>0</th>\n",
       "      <td>4139</td>\n",
       "      <td>0</td>\n",
       "      <td>0</td>\n",
       "      <td>11</td>\n",
       "      <td>0</td>\n",
       "    </tr>\n",
       "    <tr>\n",
       "      <th>1</th>\n",
       "      <td>4331</td>\n",
       "      <td>0</td>\n",
       "      <td>6</td>\n",
       "      <td>1</td>\n",
       "      <td>0</td>\n",
       "    </tr>\n",
       "    <tr>\n",
       "      <th>2</th>\n",
       "      <td>4629</td>\n",
       "      <td>2</td>\n",
       "      <td>1</td>\n",
       "      <td>6</td>\n",
       "      <td>0</td>\n",
       "    </tr>\n",
       "    <tr>\n",
       "      <th>3</th>\n",
       "      <td>4645</td>\n",
       "      <td>0</td>\n",
       "      <td>5</td>\n",
       "      <td>4</td>\n",
       "      <td>0</td>\n",
       "    </tr>\n",
       "    <tr>\n",
       "      <th>4</th>\n",
       "      <td>4651</td>\n",
       "      <td>2</td>\n",
       "      <td>0</td>\n",
       "      <td>6</td>\n",
       "      <td>0</td>\n",
       "    </tr>\n",
       "  </tbody>\n",
       "</table>\n",
       "</div>"
      ],
      "text/plain": [
       "   Salario  Anos_Educ_Superior  Tempo_Empresa  Tempo_Outras_Empresas  \\\n",
       "0     4139                   0              0                     11   \n",
       "1     4331                   0              6                      1   \n",
       "2     4629                   2              1                      6   \n",
       "3     4645                   0              5                      4   \n",
       "4     4651                   2              0                      6   \n",
       "\n",
       "   Ingles_Sim  \n",
       "0           0  \n",
       "1           0  \n",
       "2           0  \n",
       "3           0  \n",
       "4           0  "
      ]
     },
     "execution_count": 8,
     "metadata": {},
     "output_type": "execute_result"
    }
   ],
   "source": [
    "# Visualização das 5 primeiras linhas do df2\n",
    "df2.head()"
   ]
  },
  {
   "cell_type": "code",
   "execution_count": 9,
   "id": "4a59fe40",
   "metadata": {},
   "outputs": [],
   "source": [
    "# Variável resposta\n",
    "y = df2['Salario']\n",
    "\n",
    "# Variáveis explicativas\n",
    "df2['intercepto'] = 1 \n",
    "\n",
    "x = df2[['intercepto',\n",
    "         'Anos_Educ_Superior',\n",
    "         'Tempo_Empresa',\n",
    "         'Tempo_Outras_Empresas',\n",
    "         'Ingles_Sim']]"
   ]
  },
  {
   "cell_type": "code",
   "execution_count": 10,
   "id": "78d63efe",
   "metadata": {},
   "outputs": [
    {
     "name": "stdout",
     "output_type": "stream",
     "text": [
      "                            OLS Regression Results                            \n",
      "==============================================================================\n",
      "Dep. Variable:                Salario   R-squared:                       0.869\n",
      "Model:                            OLS   Adj. R-squared:                  0.856\n",
      "Method:                 Least Squares   F-statistic:                     67.72\n",
      "Date:                Sat, 12 Apr 2025   Prob (F-statistic):           1.62e-17\n",
      "Time:                        13:37:32   Log-Likelihood:                -365.98\n",
      "No. Observations:                  46   AIC:                             742.0\n",
      "Df Residuals:                      41   BIC:                             751.1\n",
      "Df Model:                           4                                         \n",
      "Covariance Type:            nonrobust                                         \n",
      "=========================================================================================\n",
      "                            coef    std err          t      P>|t|      [0.025      0.975]\n",
      "-----------------------------------------------------------------------------------------\n",
      "intercepto             4422.4588    291.113     15.192      0.000    3834.544    5010.373\n",
      "Anos_Educ_Superior      254.6814     50.333      5.060      0.000     153.033     356.330\n",
      "Tempo_Empresa            61.6208     20.383      3.023      0.004      20.457     102.785\n",
      "Tempo_Outras_Empresas     5.9801     30.572      0.196      0.846     -55.761      67.721\n",
      "Ingles_Sim             1948.4625    324.017      6.013      0.000    1294.097    2602.828\n",
      "==============================================================================\n",
      "Omnibus:                        9.210   Durbin-Watson:                   1.248\n",
      "Prob(Omnibus):                  0.010   Jarque-Bera (JB):               11.445\n",
      "Skew:                          -0.619   Prob(JB):                      0.00327\n",
      "Kurtosis:                       5.107   Cond. No.                         48.6\n",
      "==============================================================================\n",
      "\n",
      "Notes:\n",
      "[1] Standard Errors assume that the covariance matrix of the errors is correctly specified.\n"
     ]
    }
   ],
   "source": [
    "# Ajusta o modelo e retorna os resultados\n",
    "modelo = sm.OLS(y , x)\n",
    "resultado = modelo.fit()\n",
    "print(resultado.summary())"
   ]
  },
  {
   "cell_type": "markdown",
   "id": "cc335221",
   "metadata": {},
   "source": [
    "**O que é o p-valor?**\n",
    "\n",
    "O p-valor é uma medida estatística usada para ajudar a decidir se os resultados observados (as variáveis analisadas) em um experimento são significativos ou não. Para isso, comparamos os dados coletados com uma **hipótese nula**.\n",
    "\n",
    "**O que é a hipótese nula?** \n",
    "\n",
    "A hipótese nula é a suposição de que não há efeito ou não há diferença entre as variáveis analisadas. Exemplo: \"O tempo trabalhado em outras empresas não afeta o salário\".\n",
    "\n",
    "**Como interpretar o p-valor?**\n",
    "- p < 0.05 (5%): Rejeitamos a hipótese nula. A variável tem efeito significativo.\n",
    "\n",
    "- p >= 0.05 (5%): Não rejeitamos a hipótese nula. A variável não tem efeito significativo."
   ]
  },
  {
   "cell_type": "code",
   "execution_count": 11,
   "id": "f867023e",
   "metadata": {},
   "outputs": [
    {
     "data": {
      "text/html": [
       "<div style=\"font-size:14px; color:#333; padding-bottom:5px;\"><b>intercepto:</b> p-valor = 0.00% <span style='color:#1d8a2a; font-style:italic;'>(Passou no teste)</span></div>"
      ],
      "text/plain": [
       "<IPython.core.display.HTML object>"
      ]
     },
     "metadata": {},
     "output_type": "display_data"
    },
    {
     "data": {
      "text/html": [
       "<div style=\"font-size:14px; color:#333; padding-bottom:5px;\"><b>Anos_Educ_Superior:</b> p-valor = 0.00% <span style='color:#1d8a2a; font-style:italic;'>(Passou no teste)</span></div>"
      ],
      "text/plain": [
       "<IPython.core.display.HTML object>"
      ]
     },
     "metadata": {},
     "output_type": "display_data"
    },
    {
     "data": {
      "text/html": [
       "<div style=\"font-size:14px; color:#333; padding-bottom:5px;\"><b>Tempo_Empresa:</b> p-valor = 0.43% <span style='color:#1d8a2a; font-style:italic;'>(Passou no teste)</span></div>"
      ],
      "text/plain": [
       "<IPython.core.display.HTML object>"
      ]
     },
     "metadata": {},
     "output_type": "display_data"
    },
    {
     "data": {
      "text/html": [
       "<div style=\"font-size:14px; color:#333; padding-bottom:5px;\"><b>Tempo_Outras_Empresas:</b> p-valor = 84.59% <span style='color:#e76f6f; font-style:italic;'>(Não passou no teste)</span></div>"
      ],
      "text/plain": [
       "<IPython.core.display.HTML object>"
      ]
     },
     "metadata": {},
     "output_type": "display_data"
    },
    {
     "data": {
      "text/html": [
       "<div style=\"font-size:14px; color:#333; padding-bottom:5px;\"><b>Ingles_Sim:</b> p-valor = 0.00% <span style='color:#1d8a2a; font-style:italic;'>(Passou no teste)</span></div>"
      ],
      "text/plain": [
       "<IPython.core.display.HTML object>"
      ]
     },
     "metadata": {},
     "output_type": "display_data"
    }
   ],
   "source": [
    "from IPython.display import display, HTML\n",
    "\n",
    "# Exibir os p-valores com cores e significância\n",
    "for var, p in resultado.pvalues.items():\n",
    "    p_percentual = p * 100  # Convertendo para percentual\n",
    "    if p < 0.05:\n",
    "        cor = '#1d8a2a'  # Verde para significante\n",
    "        mensagem = \"Passou no teste\"\n",
    "    else:\n",
    "        cor = '#e76f6f'  # Vermelho para não significante\n",
    "        mensagem = \"Não passou no teste\"\n",
    "    \n",
    "    resultado_texto = f\"<b>{var}:</b> p-valor = {p_percentual:.2f}% <span style='color:{cor}; font-style:italic;'>({mensagem})</span>\"\n",
    "\n",
    "    # Exibindo com a cor correspondente\n",
    "    display(HTML(f'<div style=\"font-size:14px; color:#333; padding-bottom:5px;\">{resultado_texto}</div>'))"
   ]
  },
  {
   "cell_type": "markdown",
   "id": "7eb93781",
   "metadata": {},
   "source": [
    "Considerando que uma variável que tem um p-valor superior a 5 não é estatisticamente significativa, **Tempo_Outras_Empresas** apresentou um p-valor acima desse limite, indicando que não há evidências suficientes para afirmar que ela afeta o salário de forma consistente. Por isso, foi excluída do modelo para focarmos nas variáveis que realmente influenciam o salário."
   ]
  },
  {
   "cell_type": "markdown",
   "id": "4b9fb93b",
   "metadata": {},
   "source": [
    "## Novo Ajuste do Modelo de Regressão\n",
    "Sem a variável Tempo_Outras_Empresas"
   ]
  },
  {
   "cell_type": "code",
   "execution_count": 12,
   "id": "f8a491ae",
   "metadata": {},
   "outputs": [],
   "source": [
    "# Variável resposta\n",
    "y = df2['Salario']\n",
    "\n",
    "# Variáveis explicativas\n",
    "df2['intercepto'] = 1 \n",
    "\n",
    "x = df2[['intercepto',\n",
    "         'Anos_Educ_Superior',\n",
    "         'Tempo_Empresa',\n",
    "         'Ingles_Sim']]"
   ]
  },
  {
   "cell_type": "code",
   "execution_count": 13,
   "id": "82c1c6a9",
   "metadata": {},
   "outputs": [
    {
     "name": "stdout",
     "output_type": "stream",
     "text": [
      "                            OLS Regression Results                            \n",
      "==============================================================================\n",
      "Dep. Variable:                Salario   R-squared:                       0.868\n",
      "Model:                            OLS   Adj. R-squared:                  0.859\n",
      "Method:                 Least Squares   F-statistic:                     92.40\n",
      "Date:                Sat, 12 Apr 2025   Prob (F-statistic):           1.57e-18\n",
      "Time:                        13:37:32   Log-Likelihood:                -366.00\n",
      "No. Observations:                  46   AIC:                             740.0\n",
      "Df Residuals:                      42   BIC:                             747.3\n",
      "Df Model:                           3                                         \n",
      "Covariance Type:            nonrobust                                         \n",
      "======================================================================================\n",
      "                         coef    std err          t      P>|t|      [0.025      0.975]\n",
      "--------------------------------------------------------------------------------------\n",
      "intercepto          4456.2760    231.522     19.248      0.000    3989.045    4923.507\n",
      "Anos_Educ_Superior   253.5943     49.449      5.128      0.000     153.803     353.386\n",
      "Tempo_Empresa         61.0169     19.916      3.064      0.004      20.825     101.209\n",
      "Ingles_Sim          1966.4854    307.064      6.404      0.000    1346.806    2586.165\n",
      "==============================================================================\n",
      "Omnibus:                        9.338   Durbin-Watson:                   1.228\n",
      "Prob(Omnibus):                  0.009   Jarque-Bera (JB):               11.429\n",
      "Skew:                          -0.640   Prob(JB):                      0.00330\n",
      "Kurtosis:                       5.079   Cond. No.                         41.5\n",
      "==============================================================================\n",
      "\n",
      "Notes:\n",
      "[1] Standard Errors assume that the covariance matrix of the errors is correctly specified.\n"
     ]
    }
   ],
   "source": [
    "# Ajusta o modelo e retorna os resultados\n",
    "modelo = sm.OLS(y , x)\n",
    "resultado = modelo.fit()\n",
    "print(resultado.summary())"
   ]
  },
  {
   "cell_type": "markdown",
   "id": "5cf62d75",
   "metadata": {},
   "source": [
    "## Equação do Modelo\n",
    "Salário = $\\beta_0$ + $\\beta_1$ x Anos de Educação Superior + $\\beta_2$ x Tempo de Empresa + $\\beta_3$ x Sabe Inglês"
   ]
  },
  {
   "cell_type": "markdown",
   "id": "a70fc2e0",
   "metadata": {},
   "source": [
    "## Interpretação do Modelo"
   ]
  },
  {
   "cell_type": "markdown",
   "id": "8a38daf7",
   "metadata": {},
   "source": [
    "**Intercepto ou $\\beta_0$**: Salário médio de um colaborador sem educação superior, recém chegado na empresa e sem saber falar inglês é de `R$4.456,28`.<br>\n",
    "**$\\beta_1$** x Anos de Educação Superior: Cada ano adicional de educação superior, mantendo tempo de empresa e sabendo falar  inglês, gera um aumento médio de `R$253,59`.<br>\n",
    "**$\\beta_2$** x Tempo de Empresa: Cada ano adicional de tempo de empresa, mantendo os anos de educação superior e sabendo falar  inglês, gera um aumento médio de `R$61,02`.<br>\n",
    "**$\\beta_3$** x Sabe Inglês: Saber falar inglês, mantendo os anos de educação superior e tempo de empresa constantes, gera um aumento médio de `R$1.966,49`."
   ]
  },
  {
   "cell_type": "markdown",
   "id": "32cf5360",
   "metadata": {},
   "source": [
    "## Diagnóstico do Modelo - Análise dos Resíduos\n",
    "\n",
    "O diagnostico do modelo será realizado por meio do Teste da Homocedasticidade e do Teste de Normalidade dos Resíduos."
   ]
  },
  {
   "cell_type": "markdown",
   "id": "4c7cf8d1",
   "metadata": {},
   "source": [
    "### Homocedasticidade\n",
    "\n",
    "O que é o Teste de Homocedasticidade?\n",
    "\n",
    "- **Homocedasticidade:** significa que os resíduos do modelo têm uma variância constante. Isso é bom porque indica que o modelo está funcionando bem para todos os níveis de previsão\n",
    "- **Heterocedasticidade:** significa que a variância dos resíduos muda para diferentes níveis de previsão. Isso pode ser um problema porque sugere que o modelo pode não estar capturando toda a variabilidade dos dados de forma adequada\n",
    "\n",
    "A Homocedasticidade será avaliada de duas formas:\n",
    "- Gráfico da Homocedasticidade\n",
    "- Teste de White"
   ]
  },
  {
   "cell_type": "markdown",
   "id": "e112a6ff",
   "metadata": {},
   "source": [
    "#### Gráfico da Homocedasticidade\n",
    "\n",
    "Este gráfico mostra os resíduos padronizados do modelo em relação à ordem das observações. Ele é uma forma visual de verificar a homocedasticidade — ou seja, se a variância dos erros permanece constante ao longo do tempo ou entre as observações.\n",
    "\n",
    "**O que observar no gráfico**\n",
    "\n",
    "- Boa homocedasticidade: os pontos estão distribuídos de forma aleatória e sem padrão definido ao redor da linha zero, concentrados entre as linhas horizontais de referência (geralmente em -2 e +2)\n",
    "- Sinal de heterocedasticidade: se os resíduos formarem um padrão (como funil, arco ou aumento contínuo da dispersão), indicando variância não constante"
   ]
  },
  {
   "cell_type": "code",
   "execution_count": 14,
   "id": "4bd86af8",
   "metadata": {},
   "outputs": [
    {
     "data": {
      "image/png": "[encoded data removed]",
      "text/plain": [
       "<Figure size 800x400 with 1 Axes>"
      ]
     },
     "metadata": {},
     "output_type": "display_data"
    }
   ],
   "source": [
    "# Homocedasticidade (boa!): os pontos estão espalhados aleatoriamente ao redor da linha zero, sem formar padrões\n",
    "# Heterocedasticidade (problema!): os resíduos formam um “funil” (abrindo ou fechando) ou algum padrão específico\n",
    "\n",
    "grafico_residuos(resultado)"
   ]
  },
  {
   "cell_type": "markdown",
   "id": "82769f51",
   "metadata": {},
   "source": [
    "#### O que é o Teste de White?\n",
    "\n",
    "O Teste de White é um dos testes estatísticos mais usados para verificar heterocedasticidade (ou seja, variação não constante dos resíduos). Ele complementa muito bem a análise visual do gráfico.\n",
    "\n",
    "**Interpretação do Teste**\n",
    "- Hipótese nula (H₀): Os resíduos têm variância constante (homocedasticidade)\n",
    "- Hipótese alternativa (H₁): Os resíduos têm variância variável (heterocedasticidade)\n",
    "- Se o p-valor < 0.05, rejeitamos H₀ → há evidência de heterocedasticidade"
   ]
  },
  {
   "cell_type": "code",
   "execution_count": 15,
   "id": "7964c868",
   "metadata": {},
   "outputs": [
    {
     "name": "stdout",
     "output_type": "stream",
     "text": [
      "{'LM Statistic': 10.98510022754314, 'LM-Test p-value': 0.20254487068968238, 'F-Statistic': 1.450984834528977, 'F-Test p-value': 0.20864807181530834}\n"
     ]
    }
   ],
   "source": [
    "from statsmodels.stats.diagnostic import het_white\n",
    "labels = ['LM Statistic', 'LM-Test p-value', 'F-Statistic', 'F-Test p-value']\n",
    "\n",
    "white_test = het_white(resultado.resid_pearson, resultado.model.exog)\n",
    "print(dict(zip(labels, white_test)))"
   ]
  },
  {
   "cell_type": "code",
   "execution_count": 16,
   "id": "2874e878",
   "metadata": {},
   "outputs": [
    {
     "data": {
      "text/html": [
       "<h4>📊 Teste de White para Homocedasticidade</h4><ul style='font-size:14px;'><li><strong>LM-Test p-value</strong>: <span style='color:green'>0.2025</span> → ✅ Homocedasticidade (variância constante)</li><li><strong>F-Test p-value</strong>: <span style='color:green'>0.2086</span> → ✅ Homocedasticidade (variância constante)</li></ul><p style='font-size:12px;'>* Considerando nível de significância de 5%.</p>"
      ],
      "text/plain": [
       "<IPython.core.display.HTML object>"
      ]
     },
     "metadata": {},
     "output_type": "display_data"
    }
   ],
   "source": [
    "from statsmodels.stats.diagnostic import het_white\n",
    "from IPython.display import display, HTML\n",
    "\n",
    "# Rodar o teste de White\n",
    "labels = ['LM Statistic', 'LM-Test p-value', 'F-Statistic', 'F-Test p-value']\n",
    "white_test = het_white(resultado.resid_pearson, resultado.model.exog)\n",
    "white_dict = dict(zip(labels, white_test))\n",
    "\n",
    "# Exibir resultados formatados\n",
    "html_resultado = \"<h4>📊 Teste de White para Homocedasticidade</h4><ul style='font-size:14px;'>\"\n",
    "\n",
    "for key in ['LM-Test p-value', 'F-Test p-value']:\n",
    "    pval = white_dict[key]\n",
    "    passou = pval >= 0.05\n",
    "    cor = 'green' if passou else 'red'\n",
    "    status = \"✅ Homocedasticidade (variância constante)\" if passou else \"❗ Heterocedasticidade detectada\"\n",
    "    html_resultado += f\"<li><strong>{key}</strong>: <span style='color:{cor}'>{pval:.4f}</span> → {status}</li>\"\n",
    "\n",
    "html_resultado += \"</ul><p style='font-size:12px;'>* Considerando nível de significância de 5%.</p>\"\n",
    "\n",
    "display(HTML(html_resultado))"
   ]
  },
  {
   "cell_type": "markdown",
   "id": "f8d34890",
   "metadata": {},
   "source": [
    "### Teste de Normalidade dos Resíduos\n",
    "O Teste de Normalidade dos Resísudos será realizado por meio do histrograma da distribuição dos resíduos e do Teste de Shapiro-Wilk."
   ]
  },
  {
   "cell_type": "code",
   "execution_count": 17,
   "id": "67a077fc",
   "metadata": {},
   "outputs": [
    {
     "data": {
      "image/png": "[encoded data removed]",
      "text/plain": [
       "<Figure size 640x480 with 1 Axes>"
      ]
     },
     "metadata": {},
     "output_type": "display_data"
    }
   ],
   "source": [
    "# Construção de histograma para avaliar a distribuição dos resíduos\n",
    "sns.histplot(resultado.resid_pearson, kde=True);"
   ]
  },
  {
   "cell_type": "code",
   "execution_count": 18,
   "id": "4b0e01eb",
   "metadata": {},
   "outputs": [
    {
     "name": "stdout",
     "output_type": "stream",
     "text": [
      "Estatística=0.945, p-valor=0.030\n",
      "\n"
     ]
    }
   ],
   "source": [
    "# Realização de Teste de Hipóteses para avaliar Normalidade\n",
    "from scipy.stats import shapiro\n",
    "normalidade = shapiro(resultado.resid_pearson)\n",
    "print('Estatística=%.3f, p-valor=%.3f\\n' % (normalidade.statistic, normalidade.pvalue))"
   ]
  },
  {
   "cell_type": "markdown",
   "id": "53f84a05",
   "metadata": {},
   "source": [
    "**Estatística do Teste de Shapiro-Wilk (Estatística=0.945):**\n",
    "\n",
    "- A estatística do teste Shapiro-Wilk varia entre 0 e 1, onde valores próximos de 1 indicam que a distribuição dos dados está mais próxima de uma distribuição normal\n",
    "- A estatística de 0.945 sugere que os resíduos de Pearson estão razoavelmente próximos de uma distribuição normal, mas não é conclusivo sem considerar o valor p\n",
    "\n",
    "**Valor p (p-valor=0.030):**\n",
    "\n",
    "- O valor p é usado para determinar a significância estatística do teste. Normalmente, um nível de significância (α) de 0.05 é usado como o limiar para decidir se rejeitamos ou não a hipótese nula\n",
    "- Se o valor p é menor que 0.05, rejeitamos a hipótese nula, que afirma que os dados seguem uma distribuição normal. O valor p é 0.030 é menor que 0.05. Portanto, deve-se rejeitar a hipótese nula\n",
    "\n",
    "**Conclusão Com base no resultado do teste de Shapiro-Wilk:**\n",
    "\n",
    "- Hipótese Nula (H0): Os resíduos seguem uma distribuição normal\n",
    "- Hipótese Alternativa (H1): Os resíduos não seguem uma distribuição normal\n",
    "\n",
    "Como o valor p (0.030) é menor que 0.05, rejeita-se a hipótese nula. Como o valor de p é menor que o nível de significância de 5%, rejeitamos a hipótese nula, isso sugere que os resíduos **podem não seguir** uma distribuição normal.\n"
   ]
  }
 ],
 "metadata": {
  "kernelspec": {
   "display_name": "Python 3 (ipykernel)",
   "language": "python",
   "name": "python3"
  },
  "language_info": {
   "codemirror_mode": {
    "name": "ipython",
    "version": 3
   },
   "file_extension": ".py",
   "mimetype": "text/x-python",
   "name": "python",
   "nbconvert_exporter": "python",
   "pygments_lexer": "ipython3",
   "version": "3.9.13"
  }
 },
 "nbformat": 4,
 "nbformat_minor": 5
}
