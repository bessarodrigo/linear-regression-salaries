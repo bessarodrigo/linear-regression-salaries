{
 "cells": [
  {
   "cell_type": "markdown",
   "id": "b3f1476b",
   "metadata": {},
   "source": [
    "## Importação das Bibliotecas"
   ]
  },
  {
   "cell_type": "code",
   "execution_count": 1,
   "id": "5c1d5d0a",
   "metadata": {},
   "outputs": [
    {
     "ename": "ModuleNotFoundError",
     "evalue": "No module named 'composicao_estatisticas'",
     "output_type": "error",
     "traceback": [
      "\u001b[1;31m---------------------------------------------------------------------------\u001b[0m",
      "\u001b[1;31mModuleNotFoundError\u001b[0m                       Traceback (most recent call last)",
      "\u001b[1;32m~\\AppData\\Local\\Temp\\ipykernel_9684\\2290095120.py\u001b[0m in \u001b[0;36m<module>\u001b[1;34m\u001b[0m\n\u001b[0;32m      6\u001b[0m \u001b[1;32mimport\u001b[0m \u001b[0mmatplotlib\u001b[0m\u001b[1;33m.\u001b[0m\u001b[0mpyplot\u001b[0m \u001b[1;32mas\u001b[0m \u001b[0mplt\u001b[0m\u001b[1;33m\u001b[0m\u001b[1;33m\u001b[0m\u001b[0m\n\u001b[0;32m      7\u001b[0m \u001b[1;32mimport\u001b[0m \u001b[0mseaborn\u001b[0m \u001b[1;32mas\u001b[0m \u001b[0msns\u001b[0m\u001b[1;33m\u001b[0m\u001b[1;33m\u001b[0m\u001b[0m\n\u001b[1;32m----> 8\u001b[1;33m \u001b[1;32mfrom\u001b[0m \u001b[0mcomposicao_estatisticas\u001b[0m \u001b[1;32mimport\u001b[0m \u001b[0mgrafico_residuos\u001b[0m\u001b[1;33m\u001b[0m\u001b[1;33m\u001b[0m\u001b[0m\n\u001b[0m\u001b[0;32m      9\u001b[0m \u001b[1;33m\u001b[0m\u001b[0m\n\u001b[0;32m     10\u001b[0m \u001b[1;31m# Pacotes de modelagem\u001b[0m\u001b[1;33m\u001b[0m\u001b[1;33m\u001b[0m\u001b[0m\n",
      "\u001b[1;31mModuleNotFoundError\u001b[0m: No module named 'composicao_estatisticas'"
     ]
    }
   ],
   "source": [
    "# Pacotes de manipulação de dados\n",
    "import numpy as np\n",
    "import pandas as pd\n",
    "\n",
    "# Pacotes gráficos\n",
    "import matplotlib.pyplot as plt\n",
    "import seaborn as sns\n",
    "from composicao_estatisticas import grafico_residuos\n",
    "\n",
    "# Pacotes de modelagem\n",
    "import statsmodels.api as sm\n",
    "from scipy.stats import pearsonr"
   ]
  },
  {
   "cell_type": "markdown",
   "id": "b9f7e2f3",
   "metadata": {},
   "source": [
    "## Importação e tratamento da base de dados"
   ]
  },
  {
   "cell_type": "code",
   "execution_count": null,
   "id": "82c3f9c2",
   "metadata": {},
   "outputs": [],
   "source": [
    "# Carregar os dados do arquivo Excel\n",
    "df = pd.read_excel('../data/base_salarios.xlsx')"
   ]
  },
  {
   "cell_type": "code",
   "execution_count": null,
   "id": "4d608448",
   "metadata": {},
   "outputs": [],
   "source": [
    "# Exibir o número de linhas e colunas\n",
    "print('Número de linhas e colunas:')\n",
    "print(df.shape)"
   ]
  },
  {
   "cell_type": "code",
   "execution_count": null,
   "id": "1d39d777",
   "metadata": {},
   "outputs": [],
   "source": [
    "# Exibir as primeiras linhas dos dados\n",
    "df.head(8)"
   ]
  },
  {
   "cell_type": "code",
   "execution_count": null,
   "id": "3e113c0d",
   "metadata": {},
   "outputs": [],
   "source": [
    "# Remover as colunas desnecessárias\n",
    "columns_to_drop = ['Núm. Funcionário']\n",
    "columns_to_drop = [col for col in columns_to_drop if col in df.columns]\n",
    "df.drop(columns=columns_to_drop, inplace=True)\n",
    "\n",
    "\n",
    "# Renomear as colunas conforme especificado\n",
    "df.rename(columns={\n",
    "    'Salario': 'Salario',\n",
    "    'Anos de Educação Superior': 'Anos_Educ_Superior',\n",
    "    'Tempo na Empresa': 'Tempo_Empresa',\n",
    "    'Tempo de Experiencia em outras empresas': 'Tempo_Outras_Empresas',\n",
    "    'Inglês': 'Ingles'\n",
    "}, inplace=True)"
   ]
  },
  {
   "cell_type": "markdown",
   "id": "4af90b07",
   "metadata": {},
   "source": [
    "## Preparação dos Dados"
   ]
  },
  {
   "cell_type": "markdown",
   "id": "30e4dd60",
   "metadata": {},
   "source": [
    "### Criando variáveis Dummy"
   ]
  },
  {
   "cell_type": "code",
   "execution_count": null,
   "id": "6682bcfb",
   "metadata": {},
   "outputs": [],
   "source": [
    "# Amostra de dados da base\n",
    "df.sample(5, random_state=42)"
   ]
  },
  {
   "cell_type": "code",
   "execution_count": null,
   "id": "deb4e12f",
   "metadata": {},
   "outputs": [],
   "source": [
    "# Criação da variável dummy usando o get_dummies()\n",
    "df2 = pd.get_dummies(df, drop_first=True)\n",
    "\n",
    "# Converter True/False para 1/0\n",
    "df2 = df2.astype(int)\n",
    "\n",
    "df2.sample(5, random_state=42)\n",
    "# df.head()"
   ]
  },
  {
   "cell_type": "markdown",
   "id": "37bd5888",
   "metadata": {},
   "source": [
    "## Ajuste do Modelo de Regressão \n",
    "Usando o Statsmodels (Pacote de Modelos Estatísticos)"
   ]
  },
  {
   "cell_type": "code",
   "execution_count": null,
   "id": "fde3a219",
   "metadata": {},
   "outputs": [],
   "source": [
    "# Visualização das 5 primeiras linhas do df2\n",
    "df2.head()"
   ]
  },
  {
   "cell_type": "code",
   "execution_count": null,
   "id": "0c3bb083",
   "metadata": {},
   "outputs": [],
   "source": [
    "# Variável resposta\n",
    "y = df2['Salario']\n",
    "\n",
    "# Variáveis explicativas\n",
    "df2['intercepto'] = 1 \n",
    "\n",
    "x = df2[['intercepto',\n",
    "         'Anos_Educ_Superior',\n",
    "         'Tempo_Empresa',\n",
    "         'Tempo_Outras_Empresas',\n",
    "         'Ingles_Sim']]"
   ]
  },
  {
   "cell_type": "code",
   "execution_count": null,
   "id": "671a90a8",
   "metadata": {},
   "outputs": [],
   "source": [
    "# Ajusta o modelo e retorna os resultados\n",
    "modelo = sm.OLS(y , x)\n",
    "resultado = modelo.fit()\n",
    "print(resultado.summary())"
   ]
  },
  {
   "cell_type": "markdown",
   "id": "ecba856f",
   "metadata": {},
   "source": [
    "**O que é o p-valor?**\n",
    "\n",
    "O p-valor é uma medida estatística usada para ajudar a decidir se os resultados observados (as variáveis analisadas) em um experimento são significativos ou não. Para isso, comparamos os dados coletados com uma **hipótese nula**.\n",
    "\n",
    "**O que é a hipótese nula?** \n",
    "\n",
    "A hipótese nula é a suposição de que não há efeito ou não há diferença entre as variáveis analisadas. Exemplo: \"O tempo trabalhado em outras empresas não afeta o salário\".\n",
    "\n",
    "**Como interpretar o p-valor?**\n",
    "- p < 0.05 (5%): Rejeitamos a hipótese nula. A variável tem efeito significativo.\n",
    "\n",
    "- p >= 0.05 (5%): Não rejeitamos a hipótese nula. A variável não tem efeito significativo."
   ]
  },
  {
   "cell_type": "code",
   "execution_count": null,
   "id": "9296c761",
   "metadata": {},
   "outputs": [],
   "source": [
    "from IPython.display import display, HTML\n",
    "\n",
    "# Exibir os p-valores com cores e significância\n",
    "for var, p in resultado.pvalues.items():\n",
    "    p_percentual = p * 100  # Convertendo para percentual\n",
    "    if p < 0.05:\n",
    "        cor = '#1d8a2a'  # Verde para significante\n",
    "        mensagem = \"Passou no teste\"\n",
    "    else:\n",
    "        cor = '#e76f6f'  # Vermelho para não significante\n",
    "        mensagem = \"Não passou no teste\"\n",
    "    \n",
    "    resultado_texto = f\"<b>{var}:</b> p-valor = {p_percentual:.2f}% <span style='color:{cor}; font-style:italic;'>({mensagem})</span>\"\n",
    "\n",
    "    # Exibindo com a cor correspondente\n",
    "    display(HTML(f'<div style=\"font-size:14px; color:#333; padding-bottom:5px;\">{resultado_texto}</div>'))"
   ]
  },
  {
   "cell_type": "markdown",
   "id": "1ebae641",
   "metadata": {},
   "source": [
    "Considerando que uma variável que tem um p-valor superior a 5 não é estatisticamente significativa, **Tempo_Outras_Empresas** apresentou um p-valor acima desse limite, indicando que não há evidências suficientes para afirmar que ela afeta o salário de forma consistente. Por isso, foi excluída do modelo para focarmos nas variáveis que realmente influenciam o salário."
   ]
  },
  {
   "cell_type": "markdown",
   "id": "4b7516c4",
   "metadata": {},
   "source": [
    "## Novo Ajuste do Modelo de Regressão\n",
    "Sem a variável Tempo_Outras_Empresas"
   ]
  },
  {
   "cell_type": "code",
   "execution_count": null,
   "id": "4a3639f6",
   "metadata": {},
   "outputs": [],
   "source": [
    "# Variável resposta\n",
    "y = df2['Salario']\n",
    "\n",
    "# Variáveis explicativas\n",
    "df2['intercepto'] = 1 \n",
    "\n",
    "x = df2[['intercepto',\n",
    "         'Anos_Educ_Superior',\n",
    "         'Tempo_Empresa',\n",
    "         'Ingles_Sim']]"
   ]
  },
  {
   "cell_type": "code",
   "execution_count": null,
   "id": "b969c1d9",
   "metadata": {},
   "outputs": [],
   "source": [
    "# Ajusta o modelo e retorna os resultados\n",
    "modelo = sm.OLS(y , x)\n",
    "resultado = modelo.fit()\n",
    "print(resultado.summary())"
   ]
  },
  {
   "cell_type": "markdown",
   "id": "a2715648",
   "metadata": {},
   "source": [
    "## Equação do Modelo\n",
    "Salário = $\\beta_0$ + $\\beta_1$ x Anos de Educação Superior + $\\beta_2$ x Tempo de Empresa + $\\beta_3$ x Sabe Inglês"
   ]
  },
  {
   "cell_type": "markdown",
   "id": "339b4680",
   "metadata": {},
   "source": [
    "## Interpretação do Modelo"
   ]
  },
  {
   "cell_type": "markdown",
   "id": "40467997",
   "metadata": {},
   "source": [
    "**Intercepto ou $\\beta_0$**: Salário médio de um colaborador sem educação superior, recém chegado na empresa e sem saber falar inglês é de `R$4.456,28`.<br>\n",
    "**$\\beta_1$** x Anos de Educação Superior: Cada ano adicional de educação superior, mantendo tempo de empresa e sabendo falar  inglês, gera um aumento médio de `R$253,59`.<br>\n",
    "**$\\beta_2$** x Tempo de Empresa: Cada ano adicional de tempo de empresa, mantendo os anos de educação superior e sabendo falar  inglês, gera um aumento médio de `R$61,02`.<br>\n",
    "**$\\beta_3$** x Sabe Inglês: Saber falar inglês, mantendo os anos de educação superior e tempo de empresa constantes, gera um aumento médio de `R$1.966,49`."
   ]
  },
  {
   "cell_type": "markdown",
   "id": "a6b61f12",
   "metadata": {},
   "source": [
    "## Diagnóstico do Modelo - Análise dos Resíduos"
   ]
  },
  {
   "cell_type": "markdown",
   "id": "d405ddfd",
   "metadata": {},
   "source": [
    "### Teste de Homocedasticidade dos Resíduos\n",
    "\n",
    "O que é o Teste de Homocedasticidade?\n",
    "\n",
    "- Homocedasticidade: significa que os resíduos do modelo têm uma variância constante. Isso é bom porque indica que o modelo está funcionando bem para todos os níveis de previsão\n",
    "- Heterocedasticidade: significa que a variância dos resíduos muda para diferentes níveis de previsão. Isso pode ser um problema porque sugere que o modelo pode não estar capturando toda a variabilidade dos dados de forma adequada"
   ]
  },
  {
   "cell_type": "markdown",
   "id": "4d45faab",
   "metadata": {},
   "source": [
    "### Teste de White\n",
    "\n",
    "O Teste de White é um dos testes estatísticos mais usados para verificar heterocedasticidade (ou seja, variação não constante dos resíduos). Ele complementa muito bem a análise visual do gráfico.\n",
    "\n",
    "**Interpretação do Teste**\n",
    "- Hipótese nula (H₀): Os resíduos têm variância constante (homocedasticidade).\n",
    "- Hipótese alternativa (H₁): Os resíduos têm variância variável (heterocedasticidade).\n",
    "- Se o p-valor < 0.05, rejeitamos H₀ → há evidência de heterocedasticidade."
   ]
  },
  {
   "cell_type": "code",
   "execution_count": null,
   "id": "48d0fff7",
   "metadata": {},
   "outputs": [],
   "source": [
    "# Homocedasticidade (boa!): os pontos estão espalhados aleatoriamente ao redor da linha zero, sem formar padrões\n",
    "# Heterocedasticidade (problema!): os resíduos formam um “funil” (abrindo ou fechando) ou algum padrão específico\n",
    "\n",
    "grafico_residuos(resultado)"
   ]
  },
  {
   "cell_type": "code",
   "execution_count": null,
   "id": "374739c8",
   "metadata": {},
   "outputs": [],
   "source": [
    "from statsmodels.stats.diagnostic import het_white\n",
    "labels = ['LM Statistic', 'LM-Test p-value', 'F-Statistic', 'F-Test p-value']\n",
    "\n",
    "white_test = het_white(resultado.resid_pearson, resultado.model.exog)\n",
    "print(dict(zip(labels, white_test)))"
   ]
  },
  {
   "cell_type": "code",
   "execution_count": null,
   "id": "e9b1b5b1",
   "metadata": {},
   "outputs": [],
   "source": [
    "from statsmodels.stats.diagnostic import het_white\n",
    "from IPython.display import display, HTML\n",
    "\n",
    "# Rodar o teste de White\n",
    "labels = ['LM Statistic', 'LM-Test p-value', 'F-Statistic', 'F-Test p-value']\n",
    "white_test = het_white(resultado.resid_pearson, resultado.model.exog)\n",
    "white_dict = dict(zip(labels, white_test))\n",
    "\n",
    "# Exibir resultados formatados\n",
    "html_resultado = \"<h4>📊 Teste de White para Homocedasticidade</h4><ul style='font-size:14px;'>\"\n",
    "\n",
    "for key in ['LM-Test p-value', 'F-Test p-value']:\n",
    "    pval = white_dict[key]\n",
    "    passou = pval >= 0.05\n",
    "    cor = 'green' if passou else 'red'\n",
    "    status = \"✅ Homocedasticidade (variância constante)\" if passou else \"❗ Heterocedasticidade detectada\"\n",
    "    html_resultado += f\"<li><strong>{key}</strong>: <span style='color:{cor}'>{pval:.4f}</span> → {status}</li>\"\n",
    "\n",
    "html_resultado += \"</ul><p style='font-size:12px;'>* Considerando nível de significância de 5%.</p>\"\n",
    "\n",
    "display(HTML(html_resultado))"
   ]
  },
  {
   "cell_type": "markdown",
   "id": "5af3e951",
   "metadata": {},
   "source": [
    "### Teste de Normalidade dos Resíduos"
   ]
  },
  {
   "cell_type": "code",
   "execution_count": null,
   "id": "b7f41c3d",
   "metadata": {},
   "outputs": [],
   "source": [
    "# Construção de histograma para avaliar a distribuição dos resíduos\n",
    "sns.histplot(resultado.resid_pearson, kde=True)"
   ]
  }
 ],
 "metadata": {
  "kernelspec": {
   "display_name": "Python 3 (ipykernel)",
   "language": "python",
   "name": "python3"
  },
  "language_info": {
   "codemirror_mode": {
    "name": "ipython",
    "version": 3
   },
   "file_extension": ".py",
   "mimetype": "text/x-python",
   "name": "python",
   "nbconvert_exporter": "python",
   "pygments_lexer": "ipython3",
   "version": "3.9.13"
  }
 },
 "nbformat": 4,
 "nbformat_minor": 5
}
